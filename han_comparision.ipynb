{
  "nbformat": 4,
  "nbformat_minor": 0,
  "metadata": {
    "colab": {
      "provenance": []
    },
    "kernelspec": {
      "name": "python3",
      "display_name": "Python 3"
    },
    "language_info": {
      "name": "python"
    }
  },
  "cells": [
    {
      "cell_type": "code",
      "source": [
        "!pip install torchtext"
      ],
      "metadata": {
        "id": "rTke2uIVr_Zx"
      },
      "execution_count": null,
      "outputs": []
    },
    {
      "cell_type": "code",
      "execution_count": 349,
      "metadata": {
        "colab": {
          "base_uri": "https://localhost:8080/"
        },
        "id": "n8mwSi9xrpTT",
        "outputId": "3f8dc4ad-a538-4f74-86c7-2c45b4f2c6b5"
      },
      "outputs": [
        {
          "output_type": "stream",
          "name": "stderr",
          "text": [
            "[nltk_data] Downloading package stopwords to /root/nltk_data...\n",
            "[nltk_data]   Package stopwords is already up-to-date!\n",
            "[nltk_data] Downloading package wordnet to /root/nltk_data...\n",
            "[nltk_data]   Package wordnet is already up-to-date!\n",
            "[nltk_data] Downloading package punkt to /root/nltk_data...\n",
            "[nltk_data]   Package punkt is already up-to-date!\n"
          ]
        },
        {
          "output_type": "execute_result",
          "data": {
            "text/plain": [
              "True"
            ]
          },
          "metadata": {},
          "execution_count": 349
        }
      ],
      "source": [
        "import pandas as pd\n",
        "import numpy as np\n",
        "\n",
        "import torch\n",
        "import torch.nn as nn\n",
        "import torch.nn.functional as F\n",
        "from torch.utils.data import Dataset, DataLoader, random_split\n",
        "from torch.nn.utils.rnn import pad_sequence\n",
        "\n",
        "import string as st\n",
        "\n",
        "import nltk\n",
        "from nltk.corpus import wordnet\n",
        "from nltk.corpus import stopwords\n",
        "from nltk.stem.porter import PorterStemmer\n",
        "from nltk.tokenize import word_tokenize\n",
        "\n",
        "nltk.download('stopwords')\n",
        "nltk.download('wordnet')\n",
        "nltk.download('punkt')"
      ]
    },
    {
      "cell_type": "code",
      "source": [
        "import torchtext\n",
        "from torchtext.data import get_tokenizer\n",
        "from torchtext.vocab import GloVe\n",
        "from torchtext import data\n",
        "from torchtext import vocab"
      ],
      "metadata": {
        "id": "uU2n7QtovSlX"
      },
      "execution_count": 55,
      "outputs": []
    },
    {
      "cell_type": "code",
      "source": [
        "dataset = pd.read_csv('Restaurant_Reviews.tsv', delimiter = '\\t', quoting = 3)"
      ],
      "metadata": {
        "id": "j8cj2PCNsT8d"
      },
      "execution_count": 343,
      "outputs": []
    },
    {
      "cell_type": "code",
      "source": [
        "dataset.tail()"
      ],
      "metadata": {
        "colab": {
          "base_uri": "https://localhost:8080/",
          "height": 206
        },
        "id": "5m_9xFjmsVnu",
        "outputId": "69e115d2-324d-4f5d-ecec-626d9609a05a"
      },
      "execution_count": 358,
      "outputs": [
        {
          "output_type": "execute_result",
          "data": {
            "text/plain": [
              "                                                Review  Liked\n",
              "995  I think food should have flavor and texture an...      0\n",
              "996                           Appetite instantly gone.      0\n",
              "997  Overall I was not impressed and would not go b...      0\n",
              "998  The whole experience was underwhelming, and I ...      0\n",
              "999  Then, as if I hadn't wasted enough of my life ...      0"
            ],
            "text/html": [
              "\n",
              "  <div id=\"df-16709c5b-5fc8-4729-b4b5-9f4ab6924169\" class=\"colab-df-container\">\n",
              "    <div>\n",
              "<style scoped>\n",
              "    .dataframe tbody tr th:only-of-type {\n",
              "        vertical-align: middle;\n",
              "    }\n",
              "\n",
              "    .dataframe tbody tr th {\n",
              "        vertical-align: top;\n",
              "    }\n",
              "\n",
              "    .dataframe thead th {\n",
              "        text-align: right;\n",
              "    }\n",
              "</style>\n",
              "<table border=\"1\" class=\"dataframe\">\n",
              "  <thead>\n",
              "    <tr style=\"text-align: right;\">\n",
              "      <th></th>\n",
              "      <th>Review</th>\n",
              "      <th>Liked</th>\n",
              "    </tr>\n",
              "  </thead>\n",
              "  <tbody>\n",
              "    <tr>\n",
              "      <th>995</th>\n",
              "      <td>I think food should have flavor and texture an...</td>\n",
              "      <td>0</td>\n",
              "    </tr>\n",
              "    <tr>\n",
              "      <th>996</th>\n",
              "      <td>Appetite instantly gone.</td>\n",
              "      <td>0</td>\n",
              "    </tr>\n",
              "    <tr>\n",
              "      <th>997</th>\n",
              "      <td>Overall I was not impressed and would not go b...</td>\n",
              "      <td>0</td>\n",
              "    </tr>\n",
              "    <tr>\n",
              "      <th>998</th>\n",
              "      <td>The whole experience was underwhelming, and I ...</td>\n",
              "      <td>0</td>\n",
              "    </tr>\n",
              "    <tr>\n",
              "      <th>999</th>\n",
              "      <td>Then, as if I hadn't wasted enough of my life ...</td>\n",
              "      <td>0</td>\n",
              "    </tr>\n",
              "  </tbody>\n",
              "</table>\n",
              "</div>\n",
              "    <div class=\"colab-df-buttons\">\n",
              "\n",
              "  <div class=\"colab-df-container\">\n",
              "    <button class=\"colab-df-convert\" onclick=\"convertToInteractive('df-16709c5b-5fc8-4729-b4b5-9f4ab6924169')\"\n",
              "            title=\"Convert this dataframe to an interactive table.\"\n",
              "            style=\"display:none;\">\n",
              "\n",
              "  <svg xmlns=\"http://www.w3.org/2000/svg\" height=\"24px\" viewBox=\"0 -960 960 960\">\n",
              "    <path d=\"M120-120v-720h720v720H120Zm60-500h600v-160H180v160Zm220 220h160v-160H400v160Zm0 220h160v-160H400v160ZM180-400h160v-160H180v160Zm440 0h160v-160H620v160ZM180-180h160v-160H180v160Zm440 0h160v-160H620v160Z\"/>\n",
              "  </svg>\n",
              "    </button>\n",
              "\n",
              "  <style>\n",
              "    .colab-df-container {\n",
              "      display:flex;\n",
              "      gap: 12px;\n",
              "    }\n",
              "\n",
              "    .colab-df-convert {\n",
              "      background-color: #E8F0FE;\n",
              "      border: none;\n",
              "      border-radius: 50%;\n",
              "      cursor: pointer;\n",
              "      display: none;\n",
              "      fill: #1967D2;\n",
              "      height: 32px;\n",
              "      padding: 0 0 0 0;\n",
              "      width: 32px;\n",
              "    }\n",
              "\n",
              "    .colab-df-convert:hover {\n",
              "      background-color: #E2EBFA;\n",
              "      box-shadow: 0px 1px 2px rgba(60, 64, 67, 0.3), 0px 1px 3px 1px rgba(60, 64, 67, 0.15);\n",
              "      fill: #174EA6;\n",
              "    }\n",
              "\n",
              "    .colab-df-buttons div {\n",
              "      margin-bottom: 4px;\n",
              "    }\n",
              "\n",
              "    [theme=dark] .colab-df-convert {\n",
              "      background-color: #3B4455;\n",
              "      fill: #D2E3FC;\n",
              "    }\n",
              "\n",
              "    [theme=dark] .colab-df-convert:hover {\n",
              "      background-color: #434B5C;\n",
              "      box-shadow: 0px 1px 3px 1px rgba(0, 0, 0, 0.15);\n",
              "      filter: drop-shadow(0px 1px 2px rgba(0, 0, 0, 0.3));\n",
              "      fill: #FFFFFF;\n",
              "    }\n",
              "  </style>\n",
              "\n",
              "    <script>\n",
              "      const buttonEl =\n",
              "        document.querySelector('#df-16709c5b-5fc8-4729-b4b5-9f4ab6924169 button.colab-df-convert');\n",
              "      buttonEl.style.display =\n",
              "        google.colab.kernel.accessAllowed ? 'block' : 'none';\n",
              "\n",
              "      async function convertToInteractive(key) {\n",
              "        const element = document.querySelector('#df-16709c5b-5fc8-4729-b4b5-9f4ab6924169');\n",
              "        const dataTable =\n",
              "          await google.colab.kernel.invokeFunction('convertToInteractive',\n",
              "                                                    [key], {});\n",
              "        if (!dataTable) return;\n",
              "\n",
              "        const docLinkHtml = 'Like what you see? Visit the ' +\n",
              "          '<a target=\"_blank\" href=https://colab.research.google.com/notebooks/data_table.ipynb>data table notebook</a>'\n",
              "          + ' to learn more about interactive tables.';\n",
              "        element.innerHTML = '';\n",
              "        dataTable['output_type'] = 'display_data';\n",
              "        await google.colab.output.renderOutput(dataTable, element);\n",
              "        const docLink = document.createElement('div');\n",
              "        docLink.innerHTML = docLinkHtml;\n",
              "        element.appendChild(docLink);\n",
              "      }\n",
              "    </script>\n",
              "  </div>\n",
              "\n",
              "\n",
              "<div id=\"df-c151aaca-0885-46b8-bc95-ce5d4b5f87d0\">\n",
              "  <button class=\"colab-df-quickchart\" onclick=\"quickchart('df-c151aaca-0885-46b8-bc95-ce5d4b5f87d0')\"\n",
              "            title=\"Suggest charts\"\n",
              "            style=\"display:none;\">\n",
              "\n",
              "<svg xmlns=\"http://www.w3.org/2000/svg\" height=\"24px\"viewBox=\"0 0 24 24\"\n",
              "     width=\"24px\">\n",
              "    <g>\n",
              "        <path d=\"M19 3H5c-1.1 0-2 .9-2 2v14c0 1.1.9 2 2 2h14c1.1 0 2-.9 2-2V5c0-1.1-.9-2-2-2zM9 17H7v-7h2v7zm4 0h-2V7h2v10zm4 0h-2v-4h2v4z\"/>\n",
              "    </g>\n",
              "</svg>\n",
              "  </button>\n",
              "\n",
              "<style>\n",
              "  .colab-df-quickchart {\n",
              "      --bg-color: #E8F0FE;\n",
              "      --fill-color: #1967D2;\n",
              "      --hover-bg-color: #E2EBFA;\n",
              "      --hover-fill-color: #174EA6;\n",
              "      --disabled-fill-color: #AAA;\n",
              "      --disabled-bg-color: #DDD;\n",
              "  }\n",
              "\n",
              "  [theme=dark] .colab-df-quickchart {\n",
              "      --bg-color: #3B4455;\n",
              "      --fill-color: #D2E3FC;\n",
              "      --hover-bg-color: #434B5C;\n",
              "      --hover-fill-color: #FFFFFF;\n",
              "      --disabled-bg-color: #3B4455;\n",
              "      --disabled-fill-color: #666;\n",
              "  }\n",
              "\n",
              "  .colab-df-quickchart {\n",
              "    background-color: var(--bg-color);\n",
              "    border: none;\n",
              "    border-radius: 50%;\n",
              "    cursor: pointer;\n",
              "    display: none;\n",
              "    fill: var(--fill-color);\n",
              "    height: 32px;\n",
              "    padding: 0;\n",
              "    width: 32px;\n",
              "  }\n",
              "\n",
              "  .colab-df-quickchart:hover {\n",
              "    background-color: var(--hover-bg-color);\n",
              "    box-shadow: 0 1px 2px rgba(60, 64, 67, 0.3), 0 1px 3px 1px rgba(60, 64, 67, 0.15);\n",
              "    fill: var(--button-hover-fill-color);\n",
              "  }\n",
              "\n",
              "  .colab-df-quickchart-complete:disabled,\n",
              "  .colab-df-quickchart-complete:disabled:hover {\n",
              "    background-color: var(--disabled-bg-color);\n",
              "    fill: var(--disabled-fill-color);\n",
              "    box-shadow: none;\n",
              "  }\n",
              "\n",
              "  .colab-df-spinner {\n",
              "    border: 2px solid var(--fill-color);\n",
              "    border-color: transparent;\n",
              "    border-bottom-color: var(--fill-color);\n",
              "    animation:\n",
              "      spin 1s steps(1) infinite;\n",
              "  }\n",
              "\n",
              "  @keyframes spin {\n",
              "    0% {\n",
              "      border-color: transparent;\n",
              "      border-bottom-color: var(--fill-color);\n",
              "      border-left-color: var(--fill-color);\n",
              "    }\n",
              "    20% {\n",
              "      border-color: transparent;\n",
              "      border-left-color: var(--fill-color);\n",
              "      border-top-color: var(--fill-color);\n",
              "    }\n",
              "    30% {\n",
              "      border-color: transparent;\n",
              "      border-left-color: var(--fill-color);\n",
              "      border-top-color: var(--fill-color);\n",
              "      border-right-color: var(--fill-color);\n",
              "    }\n",
              "    40% {\n",
              "      border-color: transparent;\n",
              "      border-right-color: var(--fill-color);\n",
              "      border-top-color: var(--fill-color);\n",
              "    }\n",
              "    60% {\n",
              "      border-color: transparent;\n",
              "      border-right-color: var(--fill-color);\n",
              "    }\n",
              "    80% {\n",
              "      border-color: transparent;\n",
              "      border-right-color: var(--fill-color);\n",
              "      border-bottom-color: var(--fill-color);\n",
              "    }\n",
              "    90% {\n",
              "      border-color: transparent;\n",
              "      border-bottom-color: var(--fill-color);\n",
              "    }\n",
              "  }\n",
              "</style>\n",
              "\n",
              "  <script>\n",
              "    async function quickchart(key) {\n",
              "      const quickchartButtonEl =\n",
              "        document.querySelector('#' + key + ' button');\n",
              "      quickchartButtonEl.disabled = true;  // To prevent multiple clicks.\n",
              "      quickchartButtonEl.classList.add('colab-df-spinner');\n",
              "      try {\n",
              "        const charts = await google.colab.kernel.invokeFunction(\n",
              "            'suggestCharts', [key], {});\n",
              "      } catch (error) {\n",
              "        console.error('Error during call to suggestCharts:', error);\n",
              "      }\n",
              "      quickchartButtonEl.classList.remove('colab-df-spinner');\n",
              "      quickchartButtonEl.classList.add('colab-df-quickchart-complete');\n",
              "    }\n",
              "    (() => {\n",
              "      let quickchartButtonEl =\n",
              "        document.querySelector('#df-c151aaca-0885-46b8-bc95-ce5d4b5f87d0 button');\n",
              "      quickchartButtonEl.style.display =\n",
              "        google.colab.kernel.accessAllowed ? 'block' : 'none';\n",
              "    })();\n",
              "  </script>\n",
              "</div>\n",
              "    </div>\n",
              "  </div>\n"
            ]
          },
          "metadata": {},
          "execution_count": 358
        }
      ]
    },
    {
      "cell_type": "code",
      "source": [
        "stop_words = set(stopwords.words('english'))\n",
        "ps = PorterStemmer()"
      ],
      "metadata": {
        "id": "wbKCQ6ApsZDy"
      },
      "execution_count": 345,
      "outputs": []
    },
    {
      "cell_type": "code",
      "source": [
        "reviews = dataset.Review.str.lower()\n",
        "labels = dataset.Liked"
      ],
      "metadata": {
        "id": "Ht6zo_RWspmZ"
      },
      "execution_count": 346,
      "outputs": []
    },
    {
      "cell_type": "code",
      "source": [
        "punctuations = st.punctuation\n",
        "\n",
        "X=[]\n",
        "\n",
        "for review in list(reviews):\n",
        "  temp_list = []\n",
        "  tokens = word_tokenize(review)\n",
        "\n",
        "  for token in tokens:\n",
        "    if token not in punctuations:\n",
        "      if token == 'not':\n",
        "        temp_list.append(token)\n",
        "      elif token not in stop_words and '...' not in token:\n",
        "        stem = ps.stem(token)\n",
        "        temp_list.append(stem)\n",
        "\n",
        "  X.append(' '.join(temp_list))"
      ],
      "metadata": {
        "id": "CfbySf5wswka"
      },
      "execution_count": 356,
      "outputs": []
    },
    {
      "cell_type": "markdown",
      "source": [
        "# DL part"
      ],
      "metadata": {
        "id": "F32OzpzFvUAZ"
      }
    },
    {
      "cell_type": "code",
      "source": [
        "unique_words = set()\n",
        "\n",
        "for string in X:\n",
        "    words = string.split()\n",
        "    unique_words.update(words)\n",
        "\n",
        "unique_words = list(unique_words)\n",
        "print(\"Corpus size:\", len(unique_words))\n",
        "\n",
        "embedding_dim = 100\n",
        "global_vectors = GloVe(name='6B', dim=embedding_dim) # 42B, 840B\n",
        "\n",
        "corpus_size = len(unique_words)\n",
        "weights_matrix = np.zeros((corpus_size, embedding_dim))\n",
        "\n",
        "found_word = 0\n",
        "for i, word in enumerate(unique_words):\n",
        "  word_vector = global_vectors.get_vecs_by_tokens(word)\n",
        "\n",
        "  if word_vector.sum().item() == '0':\n",
        "    weights_matrix[i] = np.random.normal(scale=0.6, size=(embedding_dim, ))\n",
        "  else:\n",
        "    weights_matrix[i] = word_vector\n",
        "    found_word += 1"
      ],
      "metadata": {
        "colab": {
          "base_uri": "https://localhost:8080/"
        },
        "id": "83HmgbSDeOJJ",
        "outputId": "cffe3f3d-7fbb-493f-c0bd-5f1c7abd56ff"
      },
      "execution_count": 360,
      "outputs": [
        {
          "output_type": "stream",
          "name": "stdout",
          "text": [
            "Corpus size: 1625\n"
          ]
        }
      ]
    },
    {
      "cell_type": "markdown",
      "source": [
        "## GRU Model"
      ],
      "metadata": {
        "id": "vBJcksT2qK3z"
      }
    },
    {
      "cell_type": "code",
      "source": [
        "class Classifier(nn.Module):\n",
        "  def __init__(self, corpus_size, embedding_dim, hidden_size, load_embed=False, weights_matrix=None, trainable_embedding=False):\n",
        "    super().__init__()\n",
        "    self.num_layers = 2\n",
        "    self.hidden_size = hidden_size\n",
        "\n",
        "    self.embedding = nn.Embedding(corpus_size, embedding_dim)\n",
        "\n",
        "    if load_embed and weights_matrix is not None:\n",
        "      self.embedding.load_state_dict({'weight': torch.tensor(weights_matrix)})\n",
        "\n",
        "    self.embedding.weight.requires_grad = trainable_embedding\n",
        "\n",
        "    self.gru = nn.GRU(embedding_dim, hidden_size, self.num_layers, dropout=0.3, bidirectional=True, batch_first=True)\n",
        "\n",
        "    self.linear = nn.Linear(embedding_dim, hidden_size)\n",
        "    self.output = nn.Linear(hidden_size*2, 1)\n",
        "\n",
        "    self.relu = nn.ReLU()\n",
        "    self.sigmoid = nn.Sigmoid()\n",
        "\n",
        "  def forward(self, x):\n",
        "    embedding = self.embedding(x)\n",
        "    # pooled = embedding.mean(1)\n",
        "\n",
        "    out, hidden = self.gru(embedding)\n",
        "    out = out[:, -1, :]\n",
        "\n",
        "    # out = self.relu(self.linear(pooled))\n",
        "    out = self.output(out)\n",
        "\n",
        "    return out"
      ],
      "metadata": {
        "id": "dLnxfd-zvuEo"
      },
      "execution_count": 361,
      "outputs": []
    },
    {
      "cell_type": "markdown",
      "source": [
        "## HAN Model"
      ],
      "metadata": {
        "id": "BYoWkS0ve-es"
      }
    },
    {
      "cell_type": "code",
      "source": [
        "class WordAttention(nn.Module):\n",
        "  def __init__(self, hidden_size, embedding_dim):\n",
        "    super().__init__()\n",
        "\n",
        "    self.lin1 = nn.Linear(hidden_size, hidden_size)\n",
        "    self.lin2 = nn.Linear(hidden_size, 1, bias=False)\n",
        "\n",
        "  def forward(self, x):\n",
        "    u = torch.tanh(self.lin1(x))\n",
        "    attention = F.softmax(self.lin2(x), dim=1)\n",
        "\n",
        "    output = torch.sum(\n",
        "        attention * x, dim=1\n",
        "    )\n",
        "\n",
        "    return attention, output\n",
        "\n",
        "class SentenceAttention(nn.Module):\n",
        "  def __init__(self, hidden_size, embedding_dim):\n",
        "    super().__init__()\n",
        "\n",
        "    self.lin1 = nn.Linear(hidden_size, hidden_size)\n",
        "    self.lin2 = nn.Linear(hidden_size, 1, bias=False)\n",
        "\n",
        "  def forward(self, x):\n",
        "    u = torch.tanh(self.lin1(x))\n",
        "    attention = F.softmax(self.lin2(x), dim=1)\n",
        "\n",
        "    output = torch.sum(\n",
        "        attention * x, dim=1\n",
        "    )\n",
        "\n",
        "    return attention, output\n",
        "\n",
        "class WordEncoder(nn.Module):\n",
        "  def __init__(self, corpus_size, embedding_dim, hidden_size, load_embed=False, weights_matrix=None, trainable_embedding=False):\n",
        "    super().__init__()\n",
        "\n",
        "    self.embedding = nn.Embedding(corpus_size, embedding_dim)\n",
        "\n",
        "    if load_embed and weights_matrix is not None:\n",
        "      self.embedding.load_state_dict({'weight': torch.tensor(weights_matrix)})\n",
        "\n",
        "    self.embedding.weight.requires_grad = trainable_embedding\n",
        "\n",
        "    self.gru = nn.GRU(embedding_dim, hidden_size, 2, dropout=0.3, bidirectional=True, batch_first=True)\n",
        "    self.attention = WordAttention(hidden_size*2, embedding_dim)\n",
        "\n",
        "  def forward(self, x):\n",
        "    embeddings = self.embedding(x)\n",
        "    out, hidden = self.gru(embeddings)\n",
        "    attention, out = self.attention(out)\n",
        "\n",
        "    return out\n",
        "\n",
        "class HAN(nn.Module):\n",
        "  def __init__(self, corpus_size, embedding_dim, hidden_size, load_embed=False, weights_matrix=None, trainable_embedding=False):\n",
        "    super().__init__()\n",
        "\n",
        "    self.wordEncoder = WordEncoder(corpus_size=corpus_size, embedding_dim=embedding_dim, hidden_size=50, load_embed=True, weights_matrix=weights_matrix, trainable_embedding=True)\n",
        "\n",
        "    self.sentGRU = nn.GRU(hidden_size*2, hidden_size, bidirectional=True, batch_first=True)\n",
        "    self.sentence_attention = SentenceAttention(hidden_size * 2, hidden_size)\n",
        "\n",
        "    self.sigmoid = nn.Sigmoid()\n",
        "    self.classifier = nn.Linear(hidden_size*2, 1)\n",
        "\n",
        "  def forward(self, x):\n",
        "    word_output = self.wordEncoder(x) # 16, 100\n",
        "\n",
        "    sent_out, _ = self.sentGRU(word_output.unsqueeze(1)) # 16, 100\n",
        "    _, sent_output = self.sentence_attention(sent_out)\n",
        "\n",
        "    return self.classifier(sent_output)"
      ],
      "metadata": {
        "id": "lZZOFuStfAOg"
      },
      "execution_count": 362,
      "outputs": []
    },
    {
      "cell_type": "markdown",
      "source": [
        "## Training"
      ],
      "metadata": {
        "id": "5rIe1mhhqNZK"
      }
    },
    {
      "cell_type": "code",
      "source": [
        "class CustomDataset(Dataset):\n",
        "    def __init__(self, X, y, unique_words, weights_matrix):\n",
        "        self.X = X\n",
        "        self.y = y\n",
        "        self.unique_words = unique_words\n",
        "        self.weights_matrix = weights_matrix\n",
        "\n",
        "    def __len__(self):\n",
        "        return len(self.X)\n",
        "\n",
        "    def __getitem__(self, idx):\n",
        "        sentence = self.X[idx]\n",
        "        label = self.y[idx]\n",
        "\n",
        "        indices = [self.unique_words.index(word) for word in sentence.split()]\n",
        "\n",
        "        return {\n",
        "            'input': torch.tensor(indices, dtype=torch.long),\n",
        "            'label': torch.tensor(label, dtype=torch.float)\n",
        "        }\n",
        "\n",
        "def collate_fn(batch):\n",
        "    inputs = [item['input'] for item in batch]\n",
        "    labels = [item['label'] for item in batch]\n",
        "\n",
        "    inputs_padded = pad_sequence(inputs, batch_first=True, padding_value=0)\n",
        "\n",
        "    return {\n",
        "        'input': inputs_padded,\n",
        "        'label': torch.stack(labels)\n",
        "    }\n",
        "\n",
        "batch_size = 16\n",
        "\n",
        "dataset = CustomDataset(X=X, y=labels, unique_words=unique_words, weights_matrix=weights_matrix)\n",
        "train_size = int(0.8 * len(dataset))\n",
        "test_size = len(dataset) - train_size\n",
        "\n",
        "train_dataset, test_dataset = random_split(dataset, [train_size, test_size])\n",
        "\n",
        "train_loader = DataLoader(train_dataset, batch_size=batch_size, shuffle=True, collate_fn=collate_fn)\n",
        "test_loader = DataLoader(test_dataset, batch_size=len(test_dataset), shuffle=False, collate_fn=collate_fn)"
      ],
      "metadata": {
        "id": "9eJTFzBB0FL3"
      },
      "execution_count": 363,
      "outputs": []
    },
    {
      "cell_type": "code",
      "source": [
        "def train(model, optim, loss_fn, epochs=50, print_loss=False):\n",
        "  for epoch in range(50):\n",
        "    epoch_loss = 0\n",
        "\n",
        "    model.train()\n",
        "    for i in train_loader:\n",
        "      optim.zero_grad()\n",
        "\n",
        "      output = model(i[\"input\"])\n",
        "      target = i[\"label\"]\n",
        "      target = target.unsqueeze(1)\n",
        "\n",
        "      loss = loss_fn(target, output)\n",
        "      epoch_loss += loss.item()\n",
        "\n",
        "      loss.backward()\n",
        "      optim.step()\n",
        "\n",
        "    model.eval()\n",
        "    for i in test_loader:\n",
        "      output = model(i[\"input\"])\n",
        "      target = i[\"label\"]\n",
        "      target = target.unsqueeze(1)\n",
        "\n",
        "      l = loss_fn(target, output)\n",
        "\n",
        "    if print_loss:\n",
        "      if epoch % 10 == 0:\n",
        "        print(\"Epoch loss:\", round(epoch_loss/len(train_loader), 4))\n",
        "        print(\"Eval Loss:\", round(l.item(), 4))\n",
        "\n",
        "  print(\"Eval Loss:\", round(l.item(), 4))\n",
        "  return model"
      ],
      "metadata": {
        "id": "R0QOVQm-qu0X"
      },
      "execution_count": 364,
      "outputs": []
    },
    {
      "cell_type": "code",
      "source": [
        "corpus_size, embedding_dim = weights_matrix.shape\n",
        "\n",
        "gru_model = Classifier(corpus_size=corpus_size, embedding_dim=embedding_dim, hidden_size=50, load_embed=True, weights_matrix=weights_matrix, trainable_embedding=False)\n",
        "optim =  torch.optim.Adam(gru_model.parameters(), 0.001)\n",
        "loss_fn = torch.nn.MSELoss()\n",
        "gru_model = train(gru_model, optim, loss_fn)\n",
        "\n",
        "han_model = HAN(corpus_size=corpus_size, embedding_dim=embedding_dim, hidden_size=50, load_embed=True, weights_matrix=weights_matrix, trainable_embedding=False)\n",
        "optim =  torch.optim.Adam(han_model.parameters(), 0.001)\n",
        "loss_fn = torch.nn.MSELoss()\n",
        "han_model = train(han_model, optim, loss_fn)"
      ],
      "metadata": {
        "colab": {
          "base_uri": "https://localhost:8080/"
        },
        "id": "8uHOES2E1cht",
        "outputId": "0580b0c4-40c9-4f62-e5d5-2232dbc31193"
      },
      "execution_count": 367,
      "outputs": [
        {
          "output_type": "stream",
          "name": "stdout",
          "text": [
            "Eval Loss: 0.2554\n",
            "Eval Loss: 0.2383\n"
          ]
        }
      ]
    },
    {
      "cell_type": "code",
      "source": [
        "def evaluate(model):\n",
        "  for i in test_loader:\n",
        "      output = model(i[\"input\"])\n",
        "      target = i[\"label\"]\n",
        "\n",
        "\n",
        "  from sklearn.metrics import accuracy_score\n",
        "\n",
        "  print(accuracy_score(\n",
        "      target,\n",
        "      np.where(output.squeeze(1).detach().numpy() > 0.5, 1, 0)\n",
        "  ))\n",
        "\n",
        "evaluate(gru_model)\n",
        "evaluate(han_model)"
      ],
      "metadata": {
        "colab": {
          "base_uri": "https://localhost:8080/"
        },
        "id": "cljAq7T7ViZy",
        "outputId": "1fd632b6-f730-4fe8-b36e-838a0193f6b9"
      },
      "execution_count": 368,
      "outputs": [
        {
          "output_type": "stream",
          "name": "stdout",
          "text": [
            "0.725\n",
            "0.76\n"
          ]
        }
      ]
    },
    {
      "cell_type": "code",
      "source": [],
      "metadata": {
        "id": "ZxtY84WLbdPs"
      },
      "execution_count": null,
      "outputs": []
    }
  ]
}